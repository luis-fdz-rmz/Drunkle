{
 "cells": [
  {
   "cell_type": "code",
   "execution_count": 1,
   "id": "a750af64",
   "metadata": {},
   "outputs": [],
   "source": [
    "import numpy as np\n",
    "from english_words import get_english_words_set\n",
    "import re\n",
    "import pandas as pd\n",
    "import svgwrite\n",
    "import io\n",
    "from IPython.display import SVG, display"
   ]
  },
  {
   "cell_type": "code",
   "execution_count": 2,
   "id": "c83f569d",
   "metadata": {},
   "outputs": [],
   "source": [
    "# Define the TrieNode and Trie\n",
    "class TrieNode:\n",
    "    def __init__(self):\n",
    "        self.children = {}\n",
    "        self.is_word = False\n",
    "\n",
    "class Trie:\n",
    "    def __init__(self):\n",
    "        self.root = TrieNode()\n",
    "    \n",
    "    def insert(self, word):\n",
    "        node = self.root\n",
    "        for letter in word:\n",
    "            if letter not in node.children:\n",
    "                node.children[letter] = TrieNode()\n",
    "            node = node.children[letter]\n",
    "        node.is_word = True\n",
    "    \n",
    "    def is_valid_word(self,word):\n",
    "        node = self.root\n",
    "        for letter in word:\n",
    "            if letter not in node.children:\n",
    "                return False\n",
    "            node = node.children[letter]\n",
    "        return node.is_word\n",
    "\n",
    "    def is_valid_prefix(self, prefix):\n",
    "        \"\"\"Return True if prefix is a valid start of any word\"\"\"\n",
    "        node = self.root\n",
    "        for letter in prefix:\n",
    "            if letter not in node.children:\n",
    "                return False\n",
    "            node = node.children[letter]\n",
    "        return True  # If we successfully traversed all letters\n",
    "\n",
    "# Build the trie\n",
    "trie = Trie()\n",
    "\n",
    "\n",
    "# Function to extract capital letters from a text file\n",
    "def extract_capitals_from_file(filename):\n",
    "    capitals = set()  # To store unique capital letters\n",
    "\n",
    "    with open(filename, 'r') as file:\n",
    "        text = file.read()  # Read the whole file into a string\n",
    "\n",
    "    # Use regex to find all uppercase letters\n",
    "    capitals = set(list(map(lambda x: x.lower(),re.findall(r'[A-Z]+', text))))  # [A-Z] matches all capital letters\n",
    "\n",
    "    return capitals\n",
    "\n",
    "def extract_lowers_from_file(filename):\n",
    "    capitals = set()  # To store unique capital letters\n",
    "\n",
    "    with open(filename, 'r') as file:\n",
    "        text = file.read()  # Read the whole file into a string\n",
    "\n",
    "    # Use regex to find all uppercase letters\n",
    "    capitals = set(list(map(lambda x: x.lower(),re.findall(r'[a-z]+', text))))  # [A-Z] matches all capital letters\n",
    "\n",
    "    return capitals\n",
    "\n",
    "# Example usage\n",
    "filename = 'Datasets/pg29765.txt'  # Replace with your actual file name\n",
    "words = extract_capitals_from_file(filename)\n",
    "\n",
    "\n",
    "filename = 'Datasets/combined_wordlist.txt'\n",
    "# words = words.union(get_english_words_set(['web2'], lower=True))\n",
    "words = words.union(extract_lowers_from_file(filename))\n",
    "\n",
    "# print(len(capitals))\n",
    "for word in words:\n",
    "    trie.insert(str.lower(word))\n",
    "\n",
    "# print(capital_web2lowerset.difference(capital_web2lowerset))\n",
    "\n",
    "# print(list(capital_web2lowerset)[:100])"
   ]
  },
  {
   "cell_type": "code",
   "execution_count": 3,
   "id": "868fc632",
   "metadata": {},
   "outputs": [
    {
     "name": "stdout",
     "output_type": "stream",
     "text": [
      "105869\n",
      "105869\n"
     ]
    }
   ],
   "source": [
    "print(len(words))\n",
    "words = sorted(list(words))\n",
    "\n",
    "with open('wordlist/words.txt', mode='w') as file:\n",
    "    file.writelines(word + '\\n' for word in words)\n",
    "\n",
    "filename = 'wordlist/words.txt'  # Replace with your actual file name\n",
    "words = extract_lowers_from_file(filename)\n",
    "words = sorted(list(words))\n",
    "with open('wordlist/words.txt', mode='w') as file:\n",
    "    file.writelines(word + '\\n' for word in words)\n",
    "\n",
    "print(len(words))"
   ]
  },
  {
   "cell_type": "code",
   "execution_count": 78,
   "id": "2b62c3d4",
   "metadata": {},
   "outputs": [
    {
     "name": "stdout",
     "output_type": "stream",
     "text": [
      "myriapodous squalidly\n",
      "myriapodous squamously\n",
      "myriapodous squalida\n",
      "myriapodous squalid\n",
      "myriapodous squalor\n",
      "myriapodous squail\n",
      "myriapodous squali\n",
      "myriapodous squamula\n",
      "myriapodous squalus\n",
      "podalirius squamously\n",
      "podalirius squirmy\n",
      "polypodia asquirm\n",
      "prodromus squalidly\n",
      "dipodomys squalor\n",
      "prodromous squalidly\n",
      "polypoda asquirm\n",
      "moropus squalidly\n"
     ]
    }
   ],
   "source": [
    "all_sets = [set(['y','d','u']), set(['p','m','l']), set(['o','i','s']), set(['a','r','q'])]\n",
    "\n",
    "\n",
    "\n",
    "def letter_boxed(all_sets, other_rows, word, wordlist):\n",
    "    for other_row in other_rows:\n",
    "        for letter in other_row:\n",
    "            if trie.is_valid_prefix(word+letter):\n",
    "                if trie.is_valid_word(word+letter) and len(word+letter) > 2:\n",
    "                    wordlist.add(str(word+letter))\n",
    "                # print([s.difference(other_row) for s in all_sets if s.difference(other_row)])\n",
    "                wordlist.union(letter_boxed(all_sets,[s.difference(other_row) for s in all_sets if s.difference(other_row)], str(word+letter), wordlist))\n",
    "\n",
    "    return wordlist\n",
    "solution = set()\n",
    "\n",
    "for rows in all_sets:\n",
    "    result = [s.difference(rows) for s in all_sets if s.difference(rows)]\n",
    "    t = letter_boxed(all_sets, [s.difference(rows) for s in all_sets if s.difference(rows)], '',set())\n",
    "    solution = solution.union(t)\n",
    "\n",
    "solution = list(solution)\n",
    "solution = np.array(sorted(solution, key=lambda x: len(set(x)), reverse=True))\n",
    "# print(len(solution))\n",
    "\n",
    "for sol in solution:\n",
    "    for next_word in solution[np.char.startswith(solution,sol[-1:])]:\n",
    "        if len(set(sol+next_word)) == len(set(['m','t','l','h','i','n','p','o','f','a','r','g'])):\n",
    "            print(sol,next_word)\n"
   ]
  },
  {
   "cell_type": "code",
   "execution_count": 13,
   "id": "d1ed49bb",
   "metadata": {},
   "outputs": [
    {
     "name": "stdout",
     "output_type": "stream",
     "text": [
      "[('landlady', 8), ('vanillyl', 8), ('villainy', 8), ('vanillin', 8), ('idalian', 7)]\n"
     ]
    }
   ],
   "source": [
    "def spelling_bee(letters, word, wordlist):\n",
    "    for letter in letters:\n",
    "        if trie.is_valid_prefix(word+letter):\n",
    "                if trie.is_valid_word(word+letter) and len(word+letter) > 5 and str(word+letter).__contains__(letters[0]):\n",
    "                    wordlist.add(str(word+letter))\n",
    "                # print([s.difference(other_row) for s in all_sets if s.difference(other_row)])\n",
    "                wordlist.union(spelling_bee(letters, str(word+letter), wordlist))\n",
    "    return wordlist\n",
    "\n",
    "word = set('lvdiany')\n",
    "solution = spelling_bee(list(word), '', set())\n",
    "\n",
    "print(list(map(lambda x: (x, len(x)), sorted(solution, key=len, reverse=True)[:5])))"
   ]
  },
  {
   "cell_type": "code",
   "execution_count": 4,
   "id": "77483813",
   "metadata": {},
   "outputs": [
    {
     "name": "stdout",
     "output_type": "stream",
     "text": [
      "       words\n",
      "89932  store\n"
     ]
    },
    {
     "name": "stderr",
     "output_type": "stream",
     "text": [
      "C:\\Users\\luise\\AppData\\Local\\Temp\\ipykernel_22164\\2247293879.py:6: UserWarning: Boolean Series key will be reindexed to match DataFrame index.\n",
      "  print(words[c1][words['words'] == 'store'])\n"
     ]
    }
   ],
   "source": [
    "with open('wordlist/words.txt', mode='r') as file:\n",
    "    words = pd.DataFrame({'words' : [str(line.strip()) for line in file]})\n",
    "\n",
    "c1 = words['words'].apply(lambda x: len(x) == 5)\n",
    "\n",
    "print(words[c1][words['words'] == 'store'])\n",
    "\n"
   ]
  },
  {
   "cell_type": "code",
   "execution_count": 12,
   "id": "2037beb2",
   "metadata": {},
   "outputs": [
    {
     "name": "stdout",
     "output_type": "stream",
     "text": [
      "shave\n"
     ]
    }
   ],
   "source": [
    "drunkle_word = np.random.choice(words[c1]['words'])\n",
    "print(drunkle_word)\n",
    "\n",
    "with open('wordlist/drunkle.txt', 'w') as f:\n",
    "    f.writelines(word + '\\n' for word in words[c1]['words'])\n"
   ]
  },
  {
   "cell_type": "code",
   "execution_count": 10,
   "id": "aa3041f1",
   "metadata": {},
   "outputs": [
    {
     "data": {
      "text/html": [
       "<div style=\"display:inline-block;margin-right:10px;\"><?xml version=\"1.0\" encoding=\"utf-8\" ?>\n",
       "<svg baseProfile=\"full\" height=\"300px\" version=\"1.1\" width=\"300px\" xmlns=\"http://www.w3.org/2000/svg\" xmlns:ev=\"http://www.w3.org/2001/xml-events\" xmlns:xlink=\"http://www.w3.org/1999/xlink\"><defs /><circle cx=\"50%\" cy=\"50%\" fill=\"rgb(255, 0, 0)\" r=\"50%\" /><text dominant-baseline=\"middle\" fill=\"rgb(40,40,40)\" font-family=\"Courier New\" font-size=\"100\" font-weight=\"600\" text-anchor=\"middle\" x=\"50%\" y=\"50%\">F</text></svg></div><div style=\"display:inline-block;margin-right:10px;\"><?xml version=\"1.0\" encoding=\"utf-8\" ?>\n",
       "<svg baseProfile=\"full\" height=\"300px\" version=\"1.1\" width=\"300px\" xmlns=\"http://www.w3.org/2000/svg\" xmlns:ev=\"http://www.w3.org/2001/xml-events\" xmlns:xlink=\"http://www.w3.org/1999/xlink\"><defs /><circle cx=\"50%\" cy=\"50%\" fill=\"rgb(255, 255, 0)\" r=\"50%\" /><text dominant-baseline=\"middle\" fill=\"rgb(40,40,40)\" font-family=\"Courier New\" font-size=\"100\" font-weight=\"600\" text-anchor=\"middle\" x=\"50%\" y=\"50%\">T</text></svg></div><div style=\"display:inline-block;margin-right:10px;\"><?xml version=\"1.0\" encoding=\"utf-8\" ?>\n",
       "<svg baseProfile=\"full\" height=\"300px\" version=\"1.1\" width=\"300px\" xmlns=\"http://www.w3.org/2000/svg\" xmlns:ev=\"http://www.w3.org/2001/xml-events\" xmlns:xlink=\"http://www.w3.org/1999/xlink\"><defs /><circle cx=\"50%\" cy=\"50%\" fill=\"rgb(255, 0, 0)\" r=\"50%\" /><text dominant-baseline=\"middle\" fill=\"rgb(40,40,40)\" font-family=\"Courier New\" font-size=\"100\" font-weight=\"600\" text-anchor=\"middle\" x=\"50%\" y=\"50%\">E</text></svg></div><div style=\"display:inline-block;margin-right:10px;\"><?xml version=\"1.0\" encoding=\"utf-8\" ?>\n",
       "<svg baseProfile=\"full\" height=\"300px\" version=\"1.1\" width=\"300px\" xmlns=\"http://www.w3.org/2000/svg\" xmlns:ev=\"http://www.w3.org/2001/xml-events\" xmlns:xlink=\"http://www.w3.org/1999/xlink\"><defs /><circle cx=\"50%\" cy=\"50%\" fill=\"rgb(255, 255, 0)\" r=\"50%\" /><text dominant-baseline=\"middle\" fill=\"rgb(40,40,40)\" font-family=\"Courier New\" font-size=\"100\" font-weight=\"600\" text-anchor=\"middle\" x=\"50%\" y=\"50%\">G</text></svg></div><div style=\"display:inline-block;margin-right:10px;\"><?xml version=\"1.0\" encoding=\"utf-8\" ?>\n",
       "<svg baseProfile=\"full\" height=\"300px\" version=\"1.1\" width=\"300px\" xmlns=\"http://www.w3.org/2000/svg\" xmlns:ev=\"http://www.w3.org/2001/xml-events\" xmlns:xlink=\"http://www.w3.org/1999/xlink\"><defs /><circle cx=\"50%\" cy=\"50%\" fill=\"rgb(255, 0, 0)\" r=\"50%\" /><text dominant-baseline=\"middle\" fill=\"rgb(40,40,40)\" font-family=\"Courier New\" font-size=\"100\" font-weight=\"600\" text-anchor=\"middle\" x=\"50%\" y=\"50%\">H</text></svg></div>"
      ],
      "text/plain": [
       "<IPython.core.display.HTML object>"
      ]
     },
     "metadata": {},
     "output_type": "display_data"
    },
    {
     "data": {
      "text/plain": [
       "['<div style=\"display:inline-block;margin-right:10px;\"><?xml version=\"1.0\" encoding=\"utf-8\" ?>\\n<svg baseProfile=\"full\" height=\"300px\" version=\"1.1\" width=\"300px\" xmlns=\"http://www.w3.org/2000/svg\" xmlns:ev=\"http://www.w3.org/2001/xml-events\" xmlns:xlink=\"http://www.w3.org/1999/xlink\"><defs /><circle cx=\"50%\" cy=\"50%\" fill=\"rgb(255, 0, 0)\" r=\"50%\" /><text dominant-baseline=\"middle\" fill=\"rgb(40,40,40)\" font-family=\"Courier New\" font-size=\"100\" font-weight=\"600\" text-anchor=\"middle\" x=\"50%\" y=\"50%\">F</text></svg></div>',\n",
       " '<div style=\"display:inline-block;margin-right:10px;\"><?xml version=\"1.0\" encoding=\"utf-8\" ?>\\n<svg baseProfile=\"full\" height=\"300px\" version=\"1.1\" width=\"300px\" xmlns=\"http://www.w3.org/2000/svg\" xmlns:ev=\"http://www.w3.org/2001/xml-events\" xmlns:xlink=\"http://www.w3.org/1999/xlink\"><defs /><circle cx=\"50%\" cy=\"50%\" fill=\"rgb(255, 255, 0)\" r=\"50%\" /><text dominant-baseline=\"middle\" fill=\"rgb(40,40,40)\" font-family=\"Courier New\" font-size=\"100\" font-weight=\"600\" text-anchor=\"middle\" x=\"50%\" y=\"50%\">T</text></svg></div>',\n",
       " '<div style=\"display:inline-block;margin-right:10px;\"><?xml version=\"1.0\" encoding=\"utf-8\" ?>\\n<svg baseProfile=\"full\" height=\"300px\" version=\"1.1\" width=\"300px\" xmlns=\"http://www.w3.org/2000/svg\" xmlns:ev=\"http://www.w3.org/2001/xml-events\" xmlns:xlink=\"http://www.w3.org/1999/xlink\"><defs /><circle cx=\"50%\" cy=\"50%\" fill=\"rgb(255, 0, 0)\" r=\"50%\" /><text dominant-baseline=\"middle\" fill=\"rgb(40,40,40)\" font-family=\"Courier New\" font-size=\"100\" font-weight=\"600\" text-anchor=\"middle\" x=\"50%\" y=\"50%\">E</text></svg></div>',\n",
       " '<div style=\"display:inline-block;margin-right:10px;\"><?xml version=\"1.0\" encoding=\"utf-8\" ?>\\n<svg baseProfile=\"full\" height=\"300px\" version=\"1.1\" width=\"300px\" xmlns=\"http://www.w3.org/2000/svg\" xmlns:ev=\"http://www.w3.org/2001/xml-events\" xmlns:xlink=\"http://www.w3.org/1999/xlink\"><defs /><circle cx=\"50%\" cy=\"50%\" fill=\"rgb(255, 255, 0)\" r=\"50%\" /><text dominant-baseline=\"middle\" fill=\"rgb(40,40,40)\" font-family=\"Courier New\" font-size=\"100\" font-weight=\"600\" text-anchor=\"middle\" x=\"50%\" y=\"50%\">G</text></svg></div>',\n",
       " '<div style=\"display:inline-block;margin-right:10px;\"><?xml version=\"1.0\" encoding=\"utf-8\" ?>\\n<svg baseProfile=\"full\" height=\"300px\" version=\"1.1\" width=\"300px\" xmlns=\"http://www.w3.org/2000/svg\" xmlns:ev=\"http://www.w3.org/2001/xml-events\" xmlns:xlink=\"http://www.w3.org/1999/xlink\"><defs /><circle cx=\"50%\" cy=\"50%\" fill=\"rgb(255, 0, 0)\" r=\"50%\" /><text dominant-baseline=\"middle\" fill=\"rgb(40,40,40)\" font-family=\"Courier New\" font-size=\"100\" font-weight=\"600\" text-anchor=\"middle\" x=\"50%\" y=\"50%\">H</text></svg></div>']"
      ]
     },
     "execution_count": 10,
     "metadata": {},
     "output_type": "execute_result"
    }
   ],
   "source": [
    "import svgwrite\n",
    "import io\n",
    "from IPython.display import SVG, display, HTML\n",
    "\n",
    "def generate_svg_picture(letters, colors):\n",
    "    svg_snippets = []\n",
    "    length = 300\n",
    "\n",
    "    for letter,color in zip(letters,colors):\n",
    "        background_color = f'rgb{color}'\n",
    "        dwg = svgwrite.Drawing(size=(f'{length}px', f'{length}px'))\n",
    "\n",
    "        # Background circle\n",
    "        dwg.add(dwg.circle(center=('50%', '50%'), r='50%', fill=background_color))\n",
    "\n",
    "        # Centered text\n",
    "        font_size = length // 3\n",
    "        dwg.add(dwg.text(\n",
    "            letter,\n",
    "            insert=('50%', '50%'),\n",
    "            fill='rgb(40,40,40)',\n",
    "            font_size=font_size,\n",
    "            font_family='Courier New',\n",
    "            font_weight='600',\n",
    "            text_anchor=\"middle\",\n",
    "            dominant_baseline=\"middle\"\n",
    "        ))\n",
    "\n",
    "        # Save SVG to string\n",
    "        svg_buffer = io.StringIO()\n",
    "        dwg.write(svg_buffer)\n",
    "        svg_data = svg_buffer.getvalue()\n",
    "\n",
    "        # Wrap each SVG in a div with inline-block\n",
    "        wrapped_svg = f'<div style=\"display:inline-block;margin-right:10px;\">{svg_data}</div>'\n",
    "        svg_snippets.append(wrapped_svg)\n",
    "\n",
    "    # Combine all into a single HTML string and display\n",
    "    html_output = ''.join(svg_snippets)\n",
    "    display(HTML(html_output))\n",
    "\n",
    "    return svg_snippets\n",
    "\n",
    "\n",
    "generate_svg_picture([\"F\", \"T\", \"E\",\"G\",\"H\"], [(255,0,0), (255,255,0),(255,0,0), (255,255,0),(255,0,0)])"
   ]
  },
  {
   "cell_type": "code",
   "execution_count": 11,
   "id": "c18d30a4",
   "metadata": {},
   "outputs": [
    {
     "data": {
      "text/html": [
       "<div style=\"display:inline-block;margin-right:10px;\"><?xml version=\"1.0\" encoding=\"utf-8\" ?>\n",
       "<svg baseProfile=\"full\" height=\"300px\" version=\"1.1\" width=\"300px\" xmlns=\"http://www.w3.org/2000/svg\" xmlns:ev=\"http://www.w3.org/2001/xml-events\" xmlns:xlink=\"http://www.w3.org/1999/xlink\"><defs /><circle cx=\"50%\" cy=\"50%\" fill=\"rgb(0, 255, 0)\" r=\"50%\" /><text dominant-baseline=\"middle\" fill=\"rgb(40,40,40)\" font-family=\"Courier New\" font-size=\"100\" font-weight=\"600\" text-anchor=\"middle\" x=\"50%\" y=\"50%\">s</text></svg></div><div style=\"display:inline-block;margin-right:10px;\"><?xml version=\"1.0\" encoding=\"utf-8\" ?>\n",
       "<svg baseProfile=\"full\" height=\"300px\" version=\"1.1\" width=\"300px\" xmlns=\"http://www.w3.org/2000/svg\" xmlns:ev=\"http://www.w3.org/2001/xml-events\" xmlns:xlink=\"http://www.w3.org/1999/xlink\"><defs /><circle cx=\"50%\" cy=\"50%\" fill=\"rgb(161, 161, 161)\" r=\"50%\" /><text dominant-baseline=\"middle\" fill=\"rgb(40,40,40)\" font-family=\"Courier New\" font-size=\"100\" font-weight=\"600\" text-anchor=\"middle\" x=\"50%\" y=\"50%\">t</text></svg></div><div style=\"display:inline-block;margin-right:10px;\"><?xml version=\"1.0\" encoding=\"utf-8\" ?>\n",
       "<svg baseProfile=\"full\" height=\"300px\" version=\"1.1\" width=\"300px\" xmlns=\"http://www.w3.org/2000/svg\" xmlns:ev=\"http://www.w3.org/2001/xml-events\" xmlns:xlink=\"http://www.w3.org/1999/xlink\"><defs /><circle cx=\"50%\" cy=\"50%\" fill=\"rgb(255, 255, 0)\" r=\"50%\" /><text dominant-baseline=\"middle\" fill=\"rgb(40,40,40)\" font-family=\"Courier New\" font-size=\"100\" font-weight=\"600\" text-anchor=\"middle\" x=\"50%\" y=\"50%\">a</text></svg></div><div style=\"display:inline-block;margin-right:10px;\"><?xml version=\"1.0\" encoding=\"utf-8\" ?>\n",
       "<svg baseProfile=\"full\" height=\"300px\" version=\"1.1\" width=\"300px\" xmlns=\"http://www.w3.org/2000/svg\" xmlns:ev=\"http://www.w3.org/2001/xml-events\" xmlns:xlink=\"http://www.w3.org/1999/xlink\"><defs /><circle cx=\"50%\" cy=\"50%\" fill=\"rgb(161, 161, 161)\" r=\"50%\" /><text dominant-baseline=\"middle\" fill=\"rgb(40,40,40)\" font-family=\"Courier New\" font-size=\"100\" font-weight=\"600\" text-anchor=\"middle\" x=\"50%\" y=\"50%\">m</text></svg></div><div style=\"display:inline-block;margin-right:10px;\"><?xml version=\"1.0\" encoding=\"utf-8\" ?>\n",
       "<svg baseProfile=\"full\" height=\"300px\" version=\"1.1\" width=\"300px\" xmlns=\"http://www.w3.org/2000/svg\" xmlns:ev=\"http://www.w3.org/2001/xml-events\" xmlns:xlink=\"http://www.w3.org/1999/xlink\"><defs /><circle cx=\"50%\" cy=\"50%\" fill=\"rgb(161, 161, 161)\" r=\"50%\" /><text dominant-baseline=\"middle\" fill=\"rgb(40,40,40)\" font-family=\"Courier New\" font-size=\"100\" font-weight=\"600\" text-anchor=\"middle\" x=\"50%\" y=\"50%\">p</text></svg></div>"
      ],
      "text/plain": [
       "<IPython.core.display.HTML object>"
      ]
     },
     "metadata": {},
     "output_type": "display_data"
    },
    {
     "data": {
      "text/html": [
       "<div style=\"display:inline-block;margin-right:10px;\"><?xml version=\"1.0\" encoding=\"utf-8\" ?>\n",
       "<svg baseProfile=\"full\" height=\"300px\" version=\"1.1\" width=\"300px\" xmlns=\"http://www.w3.org/2000/svg\" xmlns:ev=\"http://www.w3.org/2001/xml-events\" xmlns:xlink=\"http://www.w3.org/1999/xlink\"><defs /><circle cx=\"50%\" cy=\"50%\" fill=\"rgb(161, 161, 161)\" r=\"50%\" /><text dominant-baseline=\"middle\" fill=\"rgb(40,40,40)\" font-family=\"Courier New\" font-size=\"100\" font-weight=\"600\" text-anchor=\"middle\" x=\"50%\" y=\"50%\">s</text></svg></div><div style=\"display:inline-block;margin-right:10px;\"><?xml version=\"1.0\" encoding=\"utf-8\" ?>\n",
       "<svg baseProfile=\"full\" height=\"300px\" version=\"1.1\" width=\"300px\" xmlns=\"http://www.w3.org/2000/svg\" xmlns:ev=\"http://www.w3.org/2001/xml-events\" xmlns:xlink=\"http://www.w3.org/1999/xlink\"><defs /><circle cx=\"50%\" cy=\"50%\" fill=\"rgb(255, 255, 0)\" r=\"50%\" /><text dominant-baseline=\"middle\" fill=\"rgb(40,40,40)\" font-family=\"Courier New\" font-size=\"100\" font-weight=\"600\" text-anchor=\"middle\" x=\"50%\" y=\"50%\">a</text></svg></div><div style=\"display:inline-block;margin-right:10px;\"><?xml version=\"1.0\" encoding=\"utf-8\" ?>\n",
       "<svg baseProfile=\"full\" height=\"300px\" version=\"1.1\" width=\"300px\" xmlns=\"http://www.w3.org/2000/svg\" xmlns:ev=\"http://www.w3.org/2001/xml-events\" xmlns:xlink=\"http://www.w3.org/1999/xlink\"><defs /><circle cx=\"50%\" cy=\"50%\" fill=\"rgb(161, 161, 161)\" r=\"50%\" /><text dominant-baseline=\"middle\" fill=\"rgb(40,40,40)\" font-family=\"Courier New\" font-size=\"100\" font-weight=\"600\" text-anchor=\"middle\" x=\"50%\" y=\"50%\">v</text></svg></div><div style=\"display:inline-block;margin-right:10px;\"><?xml version=\"1.0\" encoding=\"utf-8\" ?>\n",
       "<svg baseProfile=\"full\" height=\"300px\" version=\"1.1\" width=\"300px\" xmlns=\"http://www.w3.org/2000/svg\" xmlns:ev=\"http://www.w3.org/2001/xml-events\" xmlns:xlink=\"http://www.w3.org/1999/xlink\"><defs /><circle cx=\"50%\" cy=\"50%\" fill=\"rgb(255, 255, 0)\" r=\"50%\" /><text dominant-baseline=\"middle\" fill=\"rgb(40,40,40)\" font-family=\"Courier New\" font-size=\"100\" font-weight=\"600\" text-anchor=\"middle\" x=\"50%\" y=\"50%\">e</text></svg></div><div style=\"display:inline-block;margin-right:10px;\"><?xml version=\"1.0\" encoding=\"utf-8\" ?>\n",
       "<svg baseProfile=\"full\" height=\"300px\" version=\"1.1\" width=\"300px\" xmlns=\"http://www.w3.org/2000/svg\" xmlns:ev=\"http://www.w3.org/2001/xml-events\" xmlns:xlink=\"http://www.w3.org/1999/xlink\"><defs /><circle cx=\"50%\" cy=\"50%\" fill=\"rgb(255, 255, 0)\" r=\"50%\" /><text dominant-baseline=\"middle\" fill=\"rgb(40,40,40)\" font-family=\"Courier New\" font-size=\"100\" font-weight=\"600\" text-anchor=\"middle\" x=\"50%\" y=\"50%\">d</text></svg></div>"
      ],
      "text/plain": [
       "<IPython.core.display.HTML object>"
      ]
     },
     "metadata": {},
     "output_type": "display_data"
    },
    {
     "data": {
      "text/html": [
       "<div style=\"display:inline-block;margin-right:10px;\"><?xml version=\"1.0\" encoding=\"utf-8\" ?>\n",
       "<svg baseProfile=\"full\" height=\"300px\" version=\"1.1\" width=\"300px\" xmlns=\"http://www.w3.org/2000/svg\" xmlns:ev=\"http://www.w3.org/2001/xml-events\" xmlns:xlink=\"http://www.w3.org/1999/xlink\"><defs /><circle cx=\"50%\" cy=\"50%\" fill=\"rgb(255, 255, 0)\" r=\"50%\" /><text dominant-baseline=\"middle\" fill=\"rgb(40,40,40)\" font-family=\"Courier New\" font-size=\"100\" font-weight=\"600\" text-anchor=\"middle\" x=\"50%\" y=\"50%\">d</text></svg></div><div style=\"display:inline-block;margin-right:10px;\"><?xml version=\"1.0\" encoding=\"utf-8\" ?>\n",
       "<svg baseProfile=\"full\" height=\"300px\" version=\"1.1\" width=\"300px\" xmlns=\"http://www.w3.org/2000/svg\" xmlns:ev=\"http://www.w3.org/2001/xml-events\" xmlns:xlink=\"http://www.w3.org/1999/xlink\"><defs /><circle cx=\"50%\" cy=\"50%\" fill=\"rgb(255, 255, 0)\" r=\"50%\" /><text dominant-baseline=\"middle\" fill=\"rgb(40,40,40)\" font-family=\"Courier New\" font-size=\"100\" font-weight=\"600\" text-anchor=\"middle\" x=\"50%\" y=\"50%\">e</text></svg></div><div style=\"display:inline-block;margin-right:10px;\"><?xml version=\"1.0\" encoding=\"utf-8\" ?>\n",
       "<svg baseProfile=\"full\" height=\"300px\" version=\"1.1\" width=\"300px\" xmlns=\"http://www.w3.org/2000/svg\" xmlns:ev=\"http://www.w3.org/2001/xml-events\" xmlns:xlink=\"http://www.w3.org/1999/xlink\"><defs /><circle cx=\"50%\" cy=\"50%\" fill=\"rgb(255, 255, 0)\" r=\"50%\" /><text dominant-baseline=\"middle\" fill=\"rgb(40,40,40)\" font-family=\"Courier New\" font-size=\"100\" font-weight=\"600\" text-anchor=\"middle\" x=\"50%\" y=\"50%\">a</text></svg></div><div style=\"display:inline-block;margin-right:10px;\"><?xml version=\"1.0\" encoding=\"utf-8\" ?>\n",
       "<svg baseProfile=\"full\" height=\"300px\" version=\"1.1\" width=\"300px\" xmlns=\"http://www.w3.org/2000/svg\" xmlns:ev=\"http://www.w3.org/2001/xml-events\" xmlns:xlink=\"http://www.w3.org/1999/xlink\"><defs /><circle cx=\"50%\" cy=\"50%\" fill=\"rgb(0, 255, 0)\" r=\"50%\" /><text dominant-baseline=\"middle\" fill=\"rgb(40,40,40)\" font-family=\"Courier New\" font-size=\"100\" font-weight=\"600\" text-anchor=\"middle\" x=\"50%\" y=\"50%\">d</text></svg></div><div style=\"display:inline-block;margin-right:10px;\"><?xml version=\"1.0\" encoding=\"utf-8\" ?>\n",
       "<svg baseProfile=\"full\" height=\"300px\" version=\"1.1\" width=\"300px\" xmlns=\"http://www.w3.org/2000/svg\" xmlns:ev=\"http://www.w3.org/2001/xml-events\" xmlns:xlink=\"http://www.w3.org/1999/xlink\"><defs /><circle cx=\"50%\" cy=\"50%\" fill=\"rgb(161, 161, 161)\" r=\"50%\" /><text dominant-baseline=\"middle\" fill=\"rgb(40,40,40)\" font-family=\"Courier New\" font-size=\"100\" font-weight=\"600\" text-anchor=\"middle\" x=\"50%\" y=\"50%\">s</text></svg></div>"
      ],
      "text/plain": [
       "<IPython.core.display.HTML object>"
      ]
     },
     "metadata": {},
     "output_type": "display_data"
    },
    {
     "data": {
      "text/html": [
       "<div style=\"display:inline-block;margin-right:10px;\"><?xml version=\"1.0\" encoding=\"utf-8\" ?>\n",
       "<svg baseProfile=\"full\" height=\"300px\" version=\"1.1\" width=\"300px\" xmlns=\"http://www.w3.org/2000/svg\" xmlns:ev=\"http://www.w3.org/2001/xml-events\" xmlns:xlink=\"http://www.w3.org/1999/xlink\"><defs /><circle cx=\"50%\" cy=\"50%\" fill=\"rgb(0, 255, 0)\" r=\"50%\" /><text dominant-baseline=\"middle\" fill=\"rgb(40,40,40)\" font-family=\"Courier New\" font-size=\"100\" font-weight=\"600\" text-anchor=\"middle\" x=\"50%\" y=\"50%\">a</text></svg></div><div style=\"display:inline-block;margin-right:10px;\"><?xml version=\"1.0\" encoding=\"utf-8\" ?>\n",
       "<svg baseProfile=\"full\" height=\"300px\" version=\"1.1\" width=\"300px\" xmlns=\"http://www.w3.org/2000/svg\" xmlns:ev=\"http://www.w3.org/2001/xml-events\" xmlns:xlink=\"http://www.w3.org/1999/xlink\"><defs /><circle cx=\"50%\" cy=\"50%\" fill=\"rgb(161, 161, 161)\" r=\"50%\" /><text dominant-baseline=\"middle\" fill=\"rgb(40,40,40)\" font-family=\"Courier New\" font-size=\"100\" font-weight=\"600\" text-anchor=\"middle\" x=\"50%\" y=\"50%\">m</text></svg></div><div style=\"display:inline-block;margin-right:10px;\"><?xml version=\"1.0\" encoding=\"utf-8\" ?>\n",
       "<svg baseProfile=\"full\" height=\"300px\" version=\"1.1\" width=\"300px\" xmlns=\"http://www.w3.org/2000/svg\" xmlns:ev=\"http://www.w3.org/2001/xml-events\" xmlns:xlink=\"http://www.w3.org/1999/xlink\"><defs /><circle cx=\"50%\" cy=\"50%\" fill=\"rgb(255, 255, 0)\" r=\"50%\" /><text dominant-baseline=\"middle\" fill=\"rgb(40,40,40)\" font-family=\"Courier New\" font-size=\"100\" font-weight=\"600\" text-anchor=\"middle\" x=\"50%\" y=\"50%\">e</text></svg></div><div style=\"display:inline-block;margin-right:10px;\"><?xml version=\"1.0\" encoding=\"utf-8\" ?>\n",
       "<svg baseProfile=\"full\" height=\"300px\" version=\"1.1\" width=\"300px\" xmlns=\"http://www.w3.org/2000/svg\" xmlns:ev=\"http://www.w3.org/2001/xml-events\" xmlns:xlink=\"http://www.w3.org/1999/xlink\"><defs /><circle cx=\"50%\" cy=\"50%\" fill=\"rgb(0, 255, 0)\" r=\"50%\" /><text dominant-baseline=\"middle\" fill=\"rgb(40,40,40)\" font-family=\"Courier New\" font-size=\"100\" font-weight=\"600\" text-anchor=\"middle\" x=\"50%\" y=\"50%\">n</text></svg></div><div style=\"display:inline-block;margin-right:10px;\"><?xml version=\"1.0\" encoding=\"utf-8\" ?>\n",
       "<svg baseProfile=\"full\" height=\"300px\" version=\"1.1\" width=\"300px\" xmlns=\"http://www.w3.org/2000/svg\" xmlns:ev=\"http://www.w3.org/2001/xml-events\" xmlns:xlink=\"http://www.w3.org/1999/xlink\"><defs /><circle cx=\"50%\" cy=\"50%\" fill=\"rgb(255, 255, 0)\" r=\"50%\" /><text dominant-baseline=\"middle\" fill=\"rgb(40,40,40)\" font-family=\"Courier New\" font-size=\"100\" font-weight=\"600\" text-anchor=\"middle\" x=\"50%\" y=\"50%\">d</text></svg></div>"
      ],
      "text/plain": [
       "<IPython.core.display.HTML object>"
      ]
     },
     "metadata": {},
     "output_type": "display_data"
    },
    {
     "data": {
      "text/html": [
       "<div style=\"display:inline-block;margin-right:10px;\"><?xml version=\"1.0\" encoding=\"utf-8\" ?>\n",
       "<svg baseProfile=\"full\" height=\"300px\" version=\"1.1\" width=\"300px\" xmlns=\"http://www.w3.org/2000/svg\" xmlns:ev=\"http://www.w3.org/2001/xml-events\" xmlns:xlink=\"http://www.w3.org/1999/xlink\"><defs /><circle cx=\"50%\" cy=\"50%\" fill=\"rgb(0, 255, 0)\" r=\"50%\" /><text dominant-baseline=\"middle\" fill=\"rgb(40,40,40)\" font-family=\"Courier New\" font-size=\"100\" font-weight=\"600\" text-anchor=\"middle\" x=\"50%\" y=\"50%\">a</text></svg></div><div style=\"display:inline-block;margin-right:10px;\"><?xml version=\"1.0\" encoding=\"utf-8\" ?>\n",
       "<svg baseProfile=\"full\" height=\"300px\" version=\"1.1\" width=\"300px\" xmlns=\"http://www.w3.org/2000/svg\" xmlns:ev=\"http://www.w3.org/2001/xml-events\" xmlns:xlink=\"http://www.w3.org/1999/xlink\"><defs /><circle cx=\"50%\" cy=\"50%\" fill=\"rgb(255, 255, 0)\" r=\"50%\" /><text dominant-baseline=\"middle\" fill=\"rgb(40,40,40)\" font-family=\"Courier New\" font-size=\"100\" font-weight=\"600\" text-anchor=\"middle\" x=\"50%\" y=\"50%\">d</text></svg></div><div style=\"display:inline-block;margin-right:10px;\"><?xml version=\"1.0\" encoding=\"utf-8\" ?>\n",
       "<svg baseProfile=\"full\" height=\"300px\" version=\"1.1\" width=\"300px\" xmlns=\"http://www.w3.org/2000/svg\" xmlns:ev=\"http://www.w3.org/2001/xml-events\" xmlns:xlink=\"http://www.w3.org/1999/xlink\"><defs /><circle cx=\"50%\" cy=\"50%\" fill=\"rgb(255, 255, 0)\" r=\"50%\" /><text dominant-baseline=\"middle\" fill=\"rgb(40,40,40)\" font-family=\"Courier New\" font-size=\"100\" font-weight=\"600\" text-anchor=\"middle\" x=\"50%\" y=\"50%\">d</text></svg></div><div style=\"display:inline-block;margin-right:10px;\"><?xml version=\"1.0\" encoding=\"utf-8\" ?>\n",
       "<svg baseProfile=\"full\" height=\"300px\" version=\"1.1\" width=\"300px\" xmlns=\"http://www.w3.org/2000/svg\" xmlns:ev=\"http://www.w3.org/2001/xml-events\" xmlns:xlink=\"http://www.w3.org/1999/xlink\"><defs /><circle cx=\"50%\" cy=\"50%\" fill=\"rgb(255, 255, 0)\" r=\"50%\" /><text dominant-baseline=\"middle\" fill=\"rgb(40,40,40)\" font-family=\"Courier New\" font-size=\"100\" font-weight=\"600\" text-anchor=\"middle\" x=\"50%\" y=\"50%\">e</text></svg></div><div style=\"display:inline-block;margin-right:10px;\"><?xml version=\"1.0\" encoding=\"utf-8\" ?>\n",
       "<svg baseProfile=\"full\" height=\"300px\" version=\"1.1\" width=\"300px\" xmlns=\"http://www.w3.org/2000/svg\" xmlns:ev=\"http://www.w3.org/2001/xml-events\" xmlns:xlink=\"http://www.w3.org/1999/xlink\"><defs /><circle cx=\"50%\" cy=\"50%\" fill=\"rgb(255, 255, 0)\" r=\"50%\" /><text dominant-baseline=\"middle\" fill=\"rgb(40,40,40)\" font-family=\"Courier New\" font-size=\"100\" font-weight=\"600\" text-anchor=\"middle\" x=\"50%\" y=\"50%\">d</text></svg></div>"
      ],
      "text/plain": [
       "<IPython.core.display.HTML object>"
      ]
     },
     "metadata": {},
     "output_type": "display_data"
    },
    {
     "data": {
      "text/html": [
       "<div style=\"display:inline-block;margin-right:10px;\"><?xml version=\"1.0\" encoding=\"utf-8\" ?>\n",
       "<svg baseProfile=\"full\" height=\"300px\" version=\"1.1\" width=\"300px\" xmlns=\"http://www.w3.org/2000/svg\" xmlns:ev=\"http://www.w3.org/2001/xml-events\" xmlns:xlink=\"http://www.w3.org/1999/xlink\"><defs /><circle cx=\"50%\" cy=\"50%\" fill=\"rgb(0, 255, 0)\" r=\"50%\" /><text dominant-baseline=\"middle\" fill=\"rgb(40,40,40)\" font-family=\"Courier New\" font-size=\"100\" font-weight=\"600\" text-anchor=\"middle\" x=\"50%\" y=\"50%\">a</text></svg></div><div style=\"display:inline-block;margin-right:10px;\"><?xml version=\"1.0\" encoding=\"utf-8\" ?>\n",
       "<svg baseProfile=\"full\" height=\"300px\" version=\"1.1\" width=\"300px\" xmlns=\"http://www.w3.org/2000/svg\" xmlns:ev=\"http://www.w3.org/2001/xml-events\" xmlns:xlink=\"http://www.w3.org/1999/xlink\"><defs /><circle cx=\"50%\" cy=\"50%\" fill=\"rgb(161, 161, 161)\" r=\"50%\" /><text dominant-baseline=\"middle\" fill=\"rgb(40,40,40)\" font-family=\"Courier New\" font-size=\"100\" font-weight=\"600\" text-anchor=\"middle\" x=\"50%\" y=\"50%\">n</text></svg></div><div style=\"display:inline-block;margin-right:10px;\"><?xml version=\"1.0\" encoding=\"utf-8\" ?>\n",
       "<svg baseProfile=\"full\" height=\"300px\" version=\"1.1\" width=\"300px\" xmlns=\"http://www.w3.org/2000/svg\" xmlns:ev=\"http://www.w3.org/2001/xml-events\" xmlns:xlink=\"http://www.w3.org/1999/xlink\"><defs /><circle cx=\"50%\" cy=\"50%\" fill=\"rgb(161, 161, 161)\" r=\"50%\" /><text dominant-baseline=\"middle\" fill=\"rgb(40,40,40)\" font-family=\"Courier New\" font-size=\"100\" font-weight=\"600\" text-anchor=\"middle\" x=\"50%\" y=\"50%\">o</text></svg></div><div style=\"display:inline-block;margin-right:10px;\"><?xml version=\"1.0\" encoding=\"utf-8\" ?>\n",
       "<svg baseProfile=\"full\" height=\"300px\" version=\"1.1\" width=\"300px\" xmlns=\"http://www.w3.org/2000/svg\" xmlns:ev=\"http://www.w3.org/2001/xml-events\" xmlns:xlink=\"http://www.w3.org/1999/xlink\"><defs /><circle cx=\"50%\" cy=\"50%\" fill=\"rgb(161, 161, 161)\" r=\"50%\" /><text dominant-baseline=\"middle\" fill=\"rgb(40,40,40)\" font-family=\"Courier New\" font-size=\"100\" font-weight=\"600\" text-anchor=\"middle\" x=\"50%\" y=\"50%\">d</text></svg></div><div style=\"display:inline-block;margin-right:10px;\"><?xml version=\"1.0\" encoding=\"utf-8\" ?>\n",
       "<svg baseProfile=\"full\" height=\"300px\" version=\"1.1\" width=\"300px\" xmlns=\"http://www.w3.org/2000/svg\" xmlns:ev=\"http://www.w3.org/2001/xml-events\" xmlns:xlink=\"http://www.w3.org/1999/xlink\"><defs /><circle cx=\"50%\" cy=\"50%\" fill=\"rgb(0, 255, 0)\" r=\"50%\" /><text dominant-baseline=\"middle\" fill=\"rgb(40,40,40)\" font-family=\"Courier New\" font-size=\"100\" font-weight=\"600\" text-anchor=\"middle\" x=\"50%\" y=\"50%\">e</text></svg></div>"
      ],
      "text/plain": [
       "<IPython.core.display.HTML object>"
      ]
     },
     "metadata": {},
     "output_type": "display_data"
    },
    {
     "data": {
      "text/html": [
       "<div style=\"display:inline-block;margin-right:10px;\"><?xml version=\"1.0\" encoding=\"utf-8\" ?>\n",
       "<svg baseProfile=\"full\" height=\"300px\" version=\"1.1\" width=\"300px\" xmlns=\"http://www.w3.org/2000/svg\" xmlns:ev=\"http://www.w3.org/2001/xml-events\" xmlns:xlink=\"http://www.w3.org/1999/xlink\"><defs /><circle cx=\"50%\" cy=\"50%\" fill=\"rgb(161, 161, 161)\" r=\"50%\" /><text dominant-baseline=\"middle\" fill=\"rgb(40,40,40)\" font-family=\"Courier New\" font-size=\"100\" font-weight=\"600\" text-anchor=\"middle\" x=\"50%\" y=\"50%\">a</text></svg></div><div style=\"display:inline-block;margin-right:10px;\"><?xml version=\"1.0\" encoding=\"utf-8\" ?>\n",
       "<svg baseProfile=\"full\" height=\"300px\" version=\"1.1\" width=\"300px\" xmlns=\"http://www.w3.org/2000/svg\" xmlns:ev=\"http://www.w3.org/2001/xml-events\" xmlns:xlink=\"http://www.w3.org/1999/xlink\"><defs /><circle cx=\"50%\" cy=\"50%\" fill=\"rgb(161, 161, 161)\" r=\"50%\" /><text dominant-baseline=\"middle\" fill=\"rgb(40,40,40)\" font-family=\"Courier New\" font-size=\"100\" font-weight=\"600\" text-anchor=\"middle\" x=\"50%\" y=\"50%\">b</text></svg></div><div style=\"display:inline-block;margin-right:10px;\"><?xml version=\"1.0\" encoding=\"utf-8\" ?>\n",
       "<svg baseProfile=\"full\" height=\"300px\" version=\"1.1\" width=\"300px\" xmlns=\"http://www.w3.org/2000/svg\" xmlns:ev=\"http://www.w3.org/2001/xml-events\" xmlns:xlink=\"http://www.w3.org/1999/xlink\"><defs /><circle cx=\"50%\" cy=\"50%\" fill=\"rgb(161, 161, 161)\" r=\"50%\" /><text dominant-baseline=\"middle\" fill=\"rgb(40,40,40)\" font-family=\"Courier New\" font-size=\"100\" font-weight=\"600\" text-anchor=\"middle\" x=\"50%\" y=\"50%\">o</text></svg></div><div style=\"display:inline-block;margin-right:10px;\"><?xml version=\"1.0\" encoding=\"utf-8\" ?>\n",
       "<svg baseProfile=\"full\" height=\"300px\" version=\"1.1\" width=\"300px\" xmlns=\"http://www.w3.org/2000/svg\" xmlns:ev=\"http://www.w3.org/2001/xml-events\" xmlns:xlink=\"http://www.w3.org/1999/xlink\"><defs /><circle cx=\"50%\" cy=\"50%\" fill=\"rgb(0, 255, 0)\" r=\"50%\" /><text dominant-baseline=\"middle\" fill=\"rgb(40,40,40)\" font-family=\"Courier New\" font-size=\"100\" font-weight=\"600\" text-anchor=\"middle\" x=\"50%\" y=\"50%\">d</text></svg></div><div style=\"display:inline-block;margin-right:10px;\"><?xml version=\"1.0\" encoding=\"utf-8\" ?>\n",
       "<svg baseProfile=\"full\" height=\"300px\" version=\"1.1\" width=\"300px\" xmlns=\"http://www.w3.org/2000/svg\" xmlns:ev=\"http://www.w3.org/2001/xml-events\" xmlns:xlink=\"http://www.w3.org/1999/xlink\"><defs /><circle cx=\"50%\" cy=\"50%\" fill=\"rgb(0, 255, 0)\" r=\"50%\" /><text dominant-baseline=\"middle\" fill=\"rgb(40,40,40)\" font-family=\"Courier New\" font-size=\"100\" font-weight=\"600\" text-anchor=\"middle\" x=\"50%\" y=\"50%\">e</text></svg></div>"
      ],
      "text/plain": [
       "<IPython.core.display.HTML object>"
      ]
     },
     "metadata": {},
     "output_type": "display_data"
    },
    {
     "data": {
      "text/html": [
       "<div style=\"display:inline-block;margin-right:10px;\"><?xml version=\"1.0\" encoding=\"utf-8\" ?>\n",
       "<svg baseProfile=\"full\" height=\"300px\" version=\"1.1\" width=\"300px\" xmlns=\"http://www.w3.org/2000/svg\" xmlns:ev=\"http://www.w3.org/2001/xml-events\" xmlns:xlink=\"http://www.w3.org/1999/xlink\"><defs /><circle cx=\"50%\" cy=\"50%\" fill=\"rgb(0, 255, 0)\" r=\"50%\" /><text dominant-baseline=\"middle\" fill=\"rgb(40,40,40)\" font-family=\"Courier New\" font-size=\"100\" font-weight=\"600\" text-anchor=\"middle\" x=\"50%\" y=\"50%\">a</text></svg></div><div style=\"display:inline-block;margin-right:10px;\"><?xml version=\"1.0\" encoding=\"utf-8\" ?>\n",
       "<svg baseProfile=\"full\" height=\"300px\" version=\"1.1\" width=\"300px\" xmlns=\"http://www.w3.org/2000/svg\" xmlns:ev=\"http://www.w3.org/2001/xml-events\" xmlns:xlink=\"http://www.w3.org/1999/xlink\"><defs /><circle cx=\"50%\" cy=\"50%\" fill=\"rgb(161, 161, 161)\" r=\"50%\" /><text dominant-baseline=\"middle\" fill=\"rgb(40,40,40)\" font-family=\"Courier New\" font-size=\"100\" font-weight=\"600\" text-anchor=\"middle\" x=\"50%\" y=\"50%\">b</text></svg></div><div style=\"display:inline-block;margin-right:10px;\"><?xml version=\"1.0\" encoding=\"utf-8\" ?>\n",
       "<svg baseProfile=\"full\" height=\"300px\" version=\"1.1\" width=\"300px\" xmlns=\"http://www.w3.org/2000/svg\" xmlns:ev=\"http://www.w3.org/2001/xml-events\" xmlns:xlink=\"http://www.w3.org/1999/xlink\"><defs /><circle cx=\"50%\" cy=\"50%\" fill=\"rgb(0, 255, 0)\" r=\"50%\" /><text dominant-baseline=\"middle\" fill=\"rgb(40,40,40)\" font-family=\"Courier New\" font-size=\"100\" font-weight=\"600\" text-anchor=\"middle\" x=\"50%\" y=\"50%\">i</text></svg></div><div style=\"display:inline-block;margin-right:10px;\"><?xml version=\"1.0\" encoding=\"utf-8\" ?>\n",
       "<svg baseProfile=\"full\" height=\"300px\" version=\"1.1\" width=\"300px\" xmlns=\"http://www.w3.org/2000/svg\" xmlns:ev=\"http://www.w3.org/2001/xml-events\" xmlns:xlink=\"http://www.w3.org/1999/xlink\"><defs /><circle cx=\"50%\" cy=\"50%\" fill=\"rgb(0, 255, 0)\" r=\"50%\" /><text dominant-baseline=\"middle\" fill=\"rgb(40,40,40)\" font-family=\"Courier New\" font-size=\"100\" font-weight=\"600\" text-anchor=\"middle\" x=\"50%\" y=\"50%\">d</text></svg></div><div style=\"display:inline-block;margin-right:10px;\"><?xml version=\"1.0\" encoding=\"utf-8\" ?>\n",
       "<svg baseProfile=\"full\" height=\"300px\" version=\"1.1\" width=\"300px\" xmlns=\"http://www.w3.org/2000/svg\" xmlns:ev=\"http://www.w3.org/2001/xml-events\" xmlns:xlink=\"http://www.w3.org/1999/xlink\"><defs /><circle cx=\"50%\" cy=\"50%\" fill=\"rgb(161, 161, 161)\" r=\"50%\" /><text dominant-baseline=\"middle\" fill=\"rgb(40,40,40)\" font-family=\"Courier New\" font-size=\"100\" font-weight=\"600\" text-anchor=\"middle\" x=\"50%\" y=\"50%\">e</text></svg></div>"
      ],
      "text/plain": [
       "<IPython.core.display.HTML object>"
      ]
     },
     "metadata": {},
     "output_type": "display_data"
    },
    {
     "data": {
      "text/html": [
       "<div style=\"display:inline-block;margin-right:10px;\"><?xml version=\"1.0\" encoding=\"utf-8\" ?>\n",
       "<svg baseProfile=\"full\" height=\"300px\" version=\"1.1\" width=\"300px\" xmlns=\"http://www.w3.org/2000/svg\" xmlns:ev=\"http://www.w3.org/2001/xml-events\" xmlns:xlink=\"http://www.w3.org/1999/xlink\"><defs /><circle cx=\"50%\" cy=\"50%\" fill=\"rgb(0, 255, 0)\" r=\"50%\" /><text dominant-baseline=\"middle\" fill=\"rgb(40,40,40)\" font-family=\"Courier New\" font-size=\"100\" font-weight=\"600\" text-anchor=\"middle\" x=\"50%\" y=\"50%\">a</text></svg></div><div style=\"display:inline-block;margin-right:10px;\"><?xml version=\"1.0\" encoding=\"utf-8\" ?>\n",
       "<svg baseProfile=\"full\" height=\"300px\" version=\"1.1\" width=\"300px\" xmlns=\"http://www.w3.org/2000/svg\" xmlns:ev=\"http://www.w3.org/2001/xml-events\" xmlns:xlink=\"http://www.w3.org/1999/xlink\"><defs /><circle cx=\"50%\" cy=\"50%\" fill=\"rgb(161, 161, 161)\" r=\"50%\" /><text dominant-baseline=\"middle\" fill=\"rgb(40,40,40)\" font-family=\"Courier New\" font-size=\"100\" font-weight=\"600\" text-anchor=\"middle\" x=\"50%\" y=\"50%\">m</text></svg></div><div style=\"display:inline-block;margin-right:10px;\"><?xml version=\"1.0\" encoding=\"utf-8\" ?>\n",
       "<svg baseProfile=\"full\" height=\"300px\" version=\"1.1\" width=\"300px\" xmlns=\"http://www.w3.org/2000/svg\" xmlns:ev=\"http://www.w3.org/2001/xml-events\" xmlns:xlink=\"http://www.w3.org/1999/xlink\"><defs /><circle cx=\"50%\" cy=\"50%\" fill=\"rgb(161, 161, 161)\" r=\"50%\" /><text dominant-baseline=\"middle\" fill=\"rgb(40,40,40)\" font-family=\"Courier New\" font-size=\"100\" font-weight=\"600\" text-anchor=\"middle\" x=\"50%\" y=\"50%\">i</text></svg></div><div style=\"display:inline-block;margin-right:10px;\"><?xml version=\"1.0\" encoding=\"utf-8\" ?>\n",
       "<svg baseProfile=\"full\" height=\"300px\" version=\"1.1\" width=\"300px\" xmlns=\"http://www.w3.org/2000/svg\" xmlns:ev=\"http://www.w3.org/2001/xml-events\" xmlns:xlink=\"http://www.w3.org/1999/xlink\"><defs /><circle cx=\"50%\" cy=\"50%\" fill=\"rgb(161, 161, 161)\" r=\"50%\" /><text dominant-baseline=\"middle\" fill=\"rgb(40,40,40)\" font-family=\"Courier New\" font-size=\"100\" font-weight=\"600\" text-anchor=\"middle\" x=\"50%\" y=\"50%\">d</text></svg></div><div style=\"display:inline-block;margin-right:10px;\"><?xml version=\"1.0\" encoding=\"utf-8\" ?>\n",
       "<svg baseProfile=\"full\" height=\"300px\" version=\"1.1\" width=\"300px\" xmlns=\"http://www.w3.org/2000/svg\" xmlns:ev=\"http://www.w3.org/2001/xml-events\" xmlns:xlink=\"http://www.w3.org/1999/xlink\"><defs /><circle cx=\"50%\" cy=\"50%\" fill=\"rgb(255, 255, 0)\" r=\"50%\" /><text dominant-baseline=\"middle\" fill=\"rgb(40,40,40)\" font-family=\"Courier New\" font-size=\"100\" font-weight=\"600\" text-anchor=\"middle\" x=\"50%\" y=\"50%\">e</text></svg></div>"
      ],
      "text/plain": [
       "<IPython.core.display.HTML object>"
      ]
     },
     "metadata": {},
     "output_type": "display_data"
    },
    {
     "data": {
      "text/html": [
       "<div style=\"display:inline-block;margin-right:10px;\"><?xml version=\"1.0\" encoding=\"utf-8\" ?>\n",
       "<svg baseProfile=\"full\" height=\"300px\" version=\"1.1\" width=\"300px\" xmlns=\"http://www.w3.org/2000/svg\" xmlns:ev=\"http://www.w3.org/2001/xml-events\" xmlns:xlink=\"http://www.w3.org/1999/xlink\"><defs /><circle cx=\"50%\" cy=\"50%\" fill=\"rgb(0, 255, 0)\" r=\"50%\" /><text dominant-baseline=\"middle\" fill=\"rgb(40,40,40)\" font-family=\"Courier New\" font-size=\"100\" font-weight=\"600\" text-anchor=\"middle\" x=\"50%\" y=\"50%\">a</text></svg></div><div style=\"display:inline-block;margin-right:10px;\"><?xml version=\"1.0\" encoding=\"utf-8\" ?>\n",
       "<svg baseProfile=\"full\" height=\"300px\" version=\"1.1\" width=\"300px\" xmlns=\"http://www.w3.org/2000/svg\" xmlns:ev=\"http://www.w3.org/2001/xml-events\" xmlns:xlink=\"http://www.w3.org/1999/xlink\"><defs /><circle cx=\"50%\" cy=\"50%\" fill=\"rgb(161, 161, 161)\" r=\"50%\" /><text dominant-baseline=\"middle\" fill=\"rgb(40,40,40)\" font-family=\"Courier New\" font-size=\"100\" font-weight=\"600\" text-anchor=\"middle\" x=\"50%\" y=\"50%\">n</text></svg></div><div style=\"display:inline-block;margin-right:10px;\"><?xml version=\"1.0\" encoding=\"utf-8\" ?>\n",
       "<svg baseProfile=\"full\" height=\"300px\" version=\"1.1\" width=\"300px\" xmlns=\"http://www.w3.org/2000/svg\" xmlns:ev=\"http://www.w3.org/2001/xml-events\" xmlns:xlink=\"http://www.w3.org/1999/xlink\"><defs /><circle cx=\"50%\" cy=\"50%\" fill=\"rgb(161, 161, 161)\" r=\"50%\" /><text dominant-baseline=\"middle\" fill=\"rgb(40,40,40)\" font-family=\"Courier New\" font-size=\"100\" font-weight=\"600\" text-anchor=\"middle\" x=\"50%\" y=\"50%\">o</text></svg></div><div style=\"display:inline-block;margin-right:10px;\"><?xml version=\"1.0\" encoding=\"utf-8\" ?>\n",
       "<svg baseProfile=\"full\" height=\"300px\" version=\"1.1\" width=\"300px\" xmlns=\"http://www.w3.org/2000/svg\" xmlns:ev=\"http://www.w3.org/2001/xml-events\" xmlns:xlink=\"http://www.w3.org/1999/xlink\"><defs /><circle cx=\"50%\" cy=\"50%\" fill=\"rgb(0, 255, 0)\" r=\"50%\" /><text dominant-baseline=\"middle\" fill=\"rgb(40,40,40)\" font-family=\"Courier New\" font-size=\"100\" font-weight=\"600\" text-anchor=\"middle\" x=\"50%\" y=\"50%\">d</text></svg></div><div style=\"display:inline-block;margin-right:10px;\"><?xml version=\"1.0\" encoding=\"utf-8\" ?>\n",
       "<svg baseProfile=\"full\" height=\"300px\" version=\"1.1\" width=\"300px\" xmlns=\"http://www.w3.org/2000/svg\" xmlns:ev=\"http://www.w3.org/2001/xml-events\" xmlns:xlink=\"http://www.w3.org/1999/xlink\"><defs /><circle cx=\"50%\" cy=\"50%\" fill=\"rgb(0, 255, 0)\" r=\"50%\" /><text dominant-baseline=\"middle\" fill=\"rgb(40,40,40)\" font-family=\"Courier New\" font-size=\"100\" font-weight=\"600\" text-anchor=\"middle\" x=\"50%\" y=\"50%\">e</text></svg></div>"
      ],
      "text/plain": [
       "<IPython.core.display.HTML object>"
      ]
     },
     "metadata": {},
     "output_type": "display_data"
    },
    {
     "name": "stdout",
     "output_type": "stream",
     "text": [
      "['a', 'z', 'i', 'd', 'e']\n"
     ]
    }
   ],
   "source": [
    "def drunkle():\n",
    "    drunkle_word = list(np.random.choice(words[c1]['words']))\n",
    "    # drunkle_word = list('store')\n",
    "    c = {'yellow': (255,255,0), \n",
    "        'gray': (161,161,161),\n",
    "        'green': (0,255,0)}\n",
    "    for _ in range(10):\n",
    "        guess = '' or input(\"guess word\")\n",
    "        # guess = \n",
    "        while guess not in list(words[c1]['words']) or guess=='':\n",
    "            guess = input(\"incorrect word guess again\")\n",
    "        guess = list(guess)\n",
    "        result = []\n",
    "        for i,letter in enumerate(guess):\n",
    "            if letter == drunkle_word[i]:\n",
    "                if np.random.random()<0.1:\n",
    "                    result.append(str(np.random.choice(['gray', 'yellow'])))\n",
    "                else:\n",
    "                    result.append('green')\n",
    "\n",
    "            elif letter in drunkle_word:\n",
    "                if np.random.random()<0.1:\n",
    "                    result.append(str(np.random.choice(['gray', 'green'])))\n",
    "                else:\n",
    "                    result.append('yellow')\n",
    "            else:\n",
    "                if np.random.random()<0.1:\n",
    "                    result.append(str(np.random.choice(['green', 'yellow'])))\n",
    "                else:\n",
    "                    result.append('gray')\n",
    "        # print(result, flush=True)\n",
    "        generate_svg_picture(guess, list(map(lambda x:c[x], result)))\n",
    "        if guess == drunkle_word:\n",
    "            print('solved')\n",
    "            break\n",
    "    print(drunkle_word)\n",
    "\n",
    "\n",
    "\n",
    "\n",
    "drunkle()"
   ]
  },
  {
   "cell_type": "code",
   "execution_count": 53,
   "id": "dfff5d40",
   "metadata": {},
   "outputs": [
    {
     "name": "stdout",
     "output_type": "stream",
     "text": [
      "[(255, 255, 0), (0, 255, 0), (161, 161, 161), (161, 161, 161), (255, 255, 0)]\n"
     ]
    }
   ],
   "source": [
    "a = ['yellow', 'green', 'gray', 'gray', 'yellow']\n",
    "c = {'yellow': (255,255,0), \n",
    "     'gray': (161,161,161),\n",
    "     'green': (0,255,0)}\n",
    "b = list(map(lambda x:c[x], a))\n",
    "\n",
    "print(b)"
   ]
  }
 ],
 "metadata": {
  "kernelspec": {
   "display_name": "moodle",
   "language": "python",
   "name": "python3"
  },
  "language_info": {
   "codemirror_mode": {
    "name": "ipython",
    "version": 3
   },
   "file_extension": ".py",
   "mimetype": "text/x-python",
   "name": "python",
   "nbconvert_exporter": "python",
   "pygments_lexer": "ipython3",
   "version": "3.12.11"
  }
 },
 "nbformat": 4,
 "nbformat_minor": 5
}
